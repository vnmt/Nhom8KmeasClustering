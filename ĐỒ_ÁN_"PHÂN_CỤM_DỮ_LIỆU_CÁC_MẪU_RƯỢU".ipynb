{
  "nbformat": 4,
  "nbformat_minor": 0,
  "metadata": {
    "colab": {
      "name": "ĐỒ ÁN \"PHÂN CỤM DỮ LIỆU CÁC MẪU RƯỢU\".ipynb",
      "provenance": [],
      "collapsed_sections": [],
      "authorship_tag": "ABX9TyPweic2ZQA6o4irEUu9ttK/",
      "include_colab_link": true
    },
    "kernelspec": {
      "name": "python3",
      "display_name": "Python 3"
    },
    "language_info": {
      "name": "python"
    },
    "accelerator": "GPU"
  },
  "cells": [
    {
      "cell_type": "markdown",
      "metadata": {
        "id": "view-in-github",
        "colab_type": "text"
      },
      "source": [
        "<a href=\"https://colab.research.google.com/github/vnmt/Nhom8KmeasClustering/blob/main/%C4%90%E1%BB%92_%C3%81N_%22PH%C3%82N_C%E1%BB%A4M_D%E1%BB%AE_LI%E1%BB%86U_C%C3%81C_M%E1%BA%AAU_R%C6%AF%E1%BB%A2U%22.ipynb\" target=\"_parent\"><img src=\"https://colab.research.google.com/assets/colab-badge.svg\" alt=\"Open In Colab\"/></a>"
      ]
    },
    {
      "cell_type": "markdown",
      "metadata": {
        "id": "lemTH8MTILDW"
      },
      "source": [
        "DATASET:\n",
        "\n",
        "Link tải dataset rượu Đỏ: https://archive.ics.uci.edu/ml/machine-learning-databases/wine-quality/winequality-red.csv\n",
        "\n",
        "Link tải dataset rượu Trắng: https://archive.ics.uci.edu/ml/machine-learning-databases/wine-quality/winequality-white.csv"
      ]
    },
    {
      "cell_type": "code",
      "metadata": {
        "id": "HyvvUGesELME"
      },
      "source": [
        "# Import Thư viện\n",
        "import pandas as pd\n",
        "import numpy as np\n",
        "import matplotlib.pyplot as plt\n",
        "import seaborn as sns"
      ],
      "execution_count": null,
      "outputs": []
    },
    {
      "cell_type": "code",
      "metadata": {
        "id": "EBHUZbPwFFQk"
      },
      "source": [
        "# Load dữ liệu (file.csv)\n",
        "df_r = pd.read_csv('https://archive.ics.uci.edu/ml/machine-learning-databases/wine-quality/winequality-red.csv', sep=';')\n",
        "df_w = pd.read_csv('https://archive.ics.uci.edu/ml/machine-learning-databases/wine-quality/winequality-white.csv', sep=';')"
      ],
      "execution_count": null,
      "outputs": []
    },
    {
      "cell_type": "code",
      "metadata": {
        "id": "p9e7REMiHFe9"
      },
      "source": [
        "\n",
        "# Quy định kiểu \n",
        "df_r['wine_type'] = 'red'\n",
        "df_w['wine_type'] = 'white'\n"
      ],
      "execution_count": null,
      "outputs": []
    },
    {
      "cell_type": "code",
      "metadata": {
        "id": "1Ysta-dTHHp0"
      },
      "source": [
        "# Thông tin loại rượu Đỏ (Red-r)\n",
        "df_r.info()"
      ],
      "execution_count": null,
      "outputs": []
    },
    {
      "cell_type": "code",
      "metadata": {
        "id": "2G_brjP9HMYJ"
      },
      "source": [
        "# Thông tin loại rượu Trắng (White-w)\n",
        "df_w.info()"
      ],
      "execution_count": null,
      "outputs": []
    },
    {
      "cell_type": "code",
      "metadata": {
        "id": "mja6c8YoHTK4"
      },
      "source": [
        "# Mô tả dữ liệu \n",
        "# Vì có khoảng 5000 rượu vang trắng và chỉ 1500 rượu vang đỏ, nên có sự mất cân bằng về dữ liệu. Nên hạn chế rượu trắng để chọn ngẫu nhiên 1500\n",
        "# Cân bằng giữa 2 loại rượu \n",
        "df = df_w.sample(n = 1500)\n",
        "df = df.append(df_r)\n",
        "df.reset_index(inplace=True)"
      ],
      "execution_count": null,
      "outputs": []
    },
    {
      "cell_type": "code",
      "metadata": {
        "id": "zpJ6vKZLHVYa",
        "colab": {
          "base_uri": "https://localhost:8080/"
        },
        "outputId": "10306d59-adcb-4a4f-e1d5-e50bbd111248"
      },
      "source": [
        "# Thông tin cân bằng giữa 2 loại rượu Đỏ và Trắng\n",
        "df.info()"
      ],
      "execution_count": null,
      "outputs": [
        {
          "output_type": "stream",
          "text": [
            "<class 'pandas.core.frame.DataFrame'>\n",
            "RangeIndex: 3099 entries, 0 to 3098\n",
            "Data columns (total 14 columns):\n",
            " #   Column                Non-Null Count  Dtype  \n",
            "---  ------                --------------  -----  \n",
            " 0   index                 3099 non-null   int64  \n",
            " 1   fixed acidity         3099 non-null   float64\n",
            " 2   volatile acidity      3099 non-null   float64\n",
            " 3   citric acid           3099 non-null   float64\n",
            " 4   residual sugar        3099 non-null   float64\n",
            " 5   chlorides             3099 non-null   float64\n",
            " 6   free sulfur dioxide   3099 non-null   float64\n",
            " 7   total sulfur dioxide  3099 non-null   float64\n",
            " 8   density               3099 non-null   float64\n",
            " 9   pH                    3099 non-null   float64\n",
            " 10  sulphates             3099 non-null   float64\n",
            " 11  alcohol               3099 non-null   float64\n",
            " 12  quality               3099 non-null   int64  \n",
            " 13  wine_type             3099 non-null   object \n",
            "dtypes: float64(11), int64(2), object(1)\n",
            "memory usage: 339.1+ KB\n"
          ],
          "name": "stdout"
        }
      ]
    },
    {
      "cell_type": "code",
      "metadata": {
        "id": "Xo7N86Q5Hagb"
      },
      "source": [
        "# Tiến hành Mã Hóa Nhãn \n",
        "# Dùng LabelEncoder để biến đổi 'wine_type' từ biến phân loại thành các giá trị (0 và 1)\n",
        "from sklearn.preprocessing import LabelEncoder\n",
        "labelencoder = LabelEncoder()\n",
        "df['wine_type'] = labelencoder.fit_transform(df['wine_type'])"
      ],
      "execution_count": null,
      "outputs": []
    },
    {
      "cell_type": "code",
      "metadata": {
        "id": "NNyo26iPHfAD"
      },
      "source": [
        "# Import thư viện sklearn\n",
        "from sklearn.cluster import KMeans\n",
        "from sklearn.preprocessing import StandardScaler\n",
        "from sklearn.metrics import silhouette_score"
      ],
      "execution_count": null,
      "outputs": []
    },
    {
      "cell_type": "code",
      "metadata": {
        "id": "k8jh2aGiHgeK"
      },
      "source": [
        "# Chuẩn hóa dữ liệu \n",
        "scaler = StandardScaler() \n",
        "scaled_df = scaler.fit_transform(df.iloc[ : , :13])\n",
        "# Gán dữ liệu được chia tỉ lệ cho X\n",
        "X = scaled_df\n",
        "true_labels = df.iloc[ : , 13]"
      ],
      "execution_count": null,
      "outputs": []
    },
    {
      "cell_type": "code",
      "metadata": {
        "id": "ZUzmqJ9oHjVM"
      },
      "source": [
        "# Tạo mô hình K-Means \n",
        "# Chọn K=2 (Centroids - tương ứng với 2 loại rượu Đỏ và Trắng)\n",
        "kmeans = KMeans(n_clusters = 2)\n",
        "kmeans.fit(X)\n",
        "predictions = kmeans.fit_predict(X)"
      ],
      "execution_count": null,
      "outputs": []
    },
    {
      "cell_type": "code",
      "metadata": {
        "id": "FBIjCliLHl3M"
      },
      "source": [
        "# Hình dụng các cụm \n",
        "sns.scatterplot(x=X[predictions == 0, 0], y=X[predictions == 0, 1], palette=\"deep\", label = 'Cluster 1',s=10)\n",
        "sns.scatterplot(x=X[predictions == 1, 0], y=X[predictions == 1, 1], palette=\"deep\", label = 'Cluster 2',s=10)\n",
        "sns.scatterplot(x=kmeans.cluster_centers_[:, 0], y=kmeans.cluster_centers_[:, 1], color = 'red', label = 'Centroids',s=30,marker=',')\n",
        "plt.grid(False)\n",
        "plt.title('Grouping Wine Type')\n",
        "plt.xlabel('Fixed Acidity')\n",
        "plt.ylabel('Volatile Acidity')\n",
        "plt.legend()\n",
        "plt.show()"
      ],
      "execution_count": null,
      "outputs": []
    },
    {
      "cell_type": "code",
      "metadata": {
        "id": "ysaEqfQwHpuR"
      },
      "source": [
        "#\tTính toán ma trận nhầm lẫn để đánh giá độ chính xác của phân loại 2 loại rượu Đỏ và rượu Trắng \n",
        "from sklearn.metrics import confusion_matrix\n",
        "import seaborn as sns\n",
        "plt.figure(figsize = (6,5))\n",
        "sns.heatmap(confusion_matrix(true_labels.to_numpy().astype(\"int\"), predictions), annot=True, fmt='g', cmap='Blues')"
      ],
      "execution_count": null,
      "outputs": []
    },
    {
      "cell_type": "markdown",
      "metadata": {
        "id": "JSfZrpvPd8vE"
      },
      "source": [
        "  Thuật toán K-Means Clustering có thể phân nhóm các loại rượu khác nhau dựa trên chất lượng và hàm lượng rượu. Thuật toán đã dự đoán đúng 1579 trên 1599 loại rượu vang đỏ và 1463 trên 1500 loại rượu vang trắng. Độ chính xác khoảng 98%, cho thấy rằng mô hình tạo ra có khả năng xác định các loại rượu.\n",
        "  Mục đích là các loại rượu vang được phân loại thành 2 - Rượu vang đỏ hoặc Rượu trắng. "
      ]
    }
  ]
}